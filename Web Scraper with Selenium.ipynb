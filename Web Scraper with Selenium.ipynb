{
 "cells": [
  {
   "cell_type": "code",
   "execution_count": 3,
   "id": "2a995177",
   "metadata": {},
   "outputs": [
    {
     "name": "stdout",
     "output_type": "stream",
     "text": [
      "Requirement already satisfied: selenium in c:\\users\\nasha\\anaconda3\\lib\\site-packages (4.20.0)\n",
      "Requirement already satisfied: urllib3<3,>=1.26 in c:\\users\\nasha\\anaconda3\\lib\\site-packages (from urllib3[socks]<3,>=1.26->selenium) (1.26.16)\n",
      "Requirement already satisfied: trio~=0.17 in c:\\users\\nasha\\anaconda3\\lib\\site-packages (from selenium) (0.25.0)\n",
      "Requirement already satisfied: trio-websocket~=0.9 in c:\\users\\nasha\\anaconda3\\lib\\site-packages (from selenium) (0.11.1)\n",
      "Requirement already satisfied: certifi>=2021.10.8 in c:\\users\\nasha\\anaconda3\\lib\\site-packages (from selenium) (2024.2.2)\n",
      "Requirement already satisfied: typing_extensions>=4.9.0 in c:\\users\\nasha\\anaconda3\\lib\\site-packages (from selenium) (4.10.0)\n",
      "Requirement already satisfied: attrs>=23.2.0 in c:\\users\\nasha\\anaconda3\\lib\\site-packages (from trio~=0.17->selenium) (23.2.0)\n",
      "Requirement already satisfied: sortedcontainers in c:\\users\\nasha\\anaconda3\\lib\\site-packages (from trio~=0.17->selenium) (2.4.0)\n",
      "Requirement already satisfied: idna in c:\\users\\nasha\\anaconda3\\lib\\site-packages (from trio~=0.17->selenium) (3.4)\n",
      "Requirement already satisfied: outcome in c:\\users\\nasha\\anaconda3\\lib\\site-packages (from trio~=0.17->selenium) (1.3.0.post0)\n",
      "Requirement already satisfied: sniffio>=1.3.0 in c:\\users\\nasha\\anaconda3\\lib\\site-packages (from trio~=0.17->selenium) (1.3.1)\n",
      "Requirement already satisfied: cffi>=1.14 in c:\\users\\nasha\\anaconda3\\lib\\site-packages (from trio~=0.17->selenium) (1.15.1)\n",
      "Requirement already satisfied: wsproto>=0.14 in c:\\users\\nasha\\anaconda3\\lib\\site-packages (from trio-websocket~=0.9->selenium) (1.2.0)\n",
      "Requirement already satisfied: PySocks!=1.5.7,<2.0,>=1.5.6 in c:\\users\\nasha\\anaconda3\\lib\\site-packages (from urllib3[socks]<3,>=1.26->selenium) (1.7.1)\n",
      "Requirement already satisfied: pycparser in c:\\users\\nasha\\anaconda3\\lib\\site-packages (from cffi>=1.14->trio~=0.17->selenium) (2.21)\n",
      "Requirement already satisfied: h11<1,>=0.9.0 in c:\\users\\nasha\\anaconda3\\lib\\site-packages (from wsproto>=0.14->trio-websocket~=0.9->selenium) (0.14.0)\n",
      "Requirement already satisfied: webdriver_manager in c:\\users\\nasha\\anaconda3\\lib\\site-packages (4.0.1)\n",
      "Requirement already satisfied: requests in c:\\users\\nasha\\anaconda3\\lib\\site-packages (from webdriver_manager) (2.26.0)\n",
      "Requirement already satisfied: python-dotenv in c:\\users\\nasha\\anaconda3\\lib\\site-packages (from webdriver_manager) (0.21.0)\n",
      "Requirement already satisfied: packaging in c:\\users\\nasha\\anaconda3\\lib\\site-packages (from webdriver_manager) (23.1)\n",
      "Requirement already satisfied: urllib3<1.27,>=1.21.1 in c:\\users\\nasha\\anaconda3\\lib\\site-packages (from requests->webdriver_manager) (1.26.16)\n",
      "Requirement already satisfied: certifi>=2017.4.17 in c:\\users\\nasha\\anaconda3\\lib\\site-packages (from requests->webdriver_manager) (2024.2.2)\n",
      "Requirement already satisfied: charset-normalizer~=2.0.0 in c:\\users\\nasha\\anaconda3\\lib\\site-packages (from requests->webdriver_manager) (2.0.4)\n",
      "Requirement already satisfied: idna<4,>=2.5 in c:\\users\\nasha\\anaconda3\\lib\\site-packages (from requests->webdriver_manager) (3.4)\n",
      "Requirement already satisfied: beautifulsoup4 in c:\\users\\nasha\\anaconda3\\lib\\site-packages (4.12.2)\n",
      "Requirement already satisfied: soupsieve>1.2 in c:\\users\\nasha\\anaconda3\\lib\\site-packages (from beautifulsoup4) (2.4)\n"
     ]
    },
    {
     "name": "stderr",
     "output_type": "stream",
     "text": [
      "ERROR: Could not find a version that satisfies the requirement csv (from versions: none)\n",
      "ERROR: No matching distribution found for csv\n"
     ]
    }
   ],
   "source": [
    "!pip3 install selenium\n",
    "!pip install webdriver_manager\n",
    "!pip install beautifulsoup4\n",
    "!pip install csv"
   ]
  },
  {
   "cell_type": "code",
   "execution_count": 16,
   "id": "bcfd4336",
   "metadata": {
    "scrolled": true
   },
   "outputs": [
    {
     "name": "stdout",
     "output_type": "stream",
     "text": [
      "Column headers:\n",
      "['Geography', 'Canada (map)', 'Products and product groups3, 4', 'November 2023', 'December 2023', 'January 2024', 'February 2024', 'March 2024', '', '2002=100', 'All-items', 'Food5', 'Shelter6', 'Household operations, furnishings and equipment', 'Clothing and footwear', 'Transportation', 'Gasoline', 'Health and personal care', 'Recreation, education and reading', 'Alcoholic beverages, tobacco products and recreational cannabis', 'All-items excluding food and energy7', 'All-items excluding energy7', 'Energy7', 'Goods8', 'Services9']\n"
     ]
    }
   ],
   "source": [
    "from selenium import webdriver\n",
    "from bs4 import BeautifulSoup\n",
    "from selenium.webdriver.chrome.service import Service\n",
    "import csv\n",
    "\n",
    "driver = webdriver.Chrome()\n",
    "\n",
    "#create the url\n",
    "page_url = \"https://www150.statcan.gc.ca/t1/tbl1/en/tv.action?pid=1810000401\"\n",
    "\n",
    "#fetch the page\n",
    "driver.get(page_url)\n",
    "\n",
    "#Wait for the table to load (you might need to adjust the wait time)\n",
    "driver.implicitly_wait(10)\n",
    "\n",
    "#Get the page source AFTER JavaScript execution \n",
    "page_source = driver.page_source\n",
    "\n",
    "#Parse the HTML content\n",
    "soup = BeautifulSoup(page_source, 'html.parser')\n",
    "\n",
    "#Find the HTML/table element\n",
    "table = soup.find('table', class_='pub-table')\n",
    "\n",
    "if table:\n",
    "    #Extract the column headers\n",
    "    headers = [th.get_text().strip() for th in table.find_all('th')]\n",
    "    \n",
    "    #Extract the row data\n",
    "    rows = []\n",
    "    for tr in table.find_all('tr'):\n",
    "        row = [td.get_text().strip() for td in table.find_all('td')]\n",
    "        if row: #Check if a row is NOT empty\n",
    "                rows.append(row)\n",
    "                \n",
    "    #Print column headers\n",
    "    print(\"Column headers:\")\n",
    "    print(headers)\n",
    "        \n",
    "\n",
    "\n",
    "\n",
    "\n"
   ]
  },
  {
   "cell_type": "code",
   "execution_count": null,
   "id": "dac7d96f",
   "metadata": {},
   "outputs": [],
   "source": []
  }
 ],
 "metadata": {
  "kernelspec": {
   "display_name": "Python 3 (ipykernel)",
   "language": "python",
   "name": "python3"
  },
  "language_info": {
   "codemirror_mode": {
    "name": "ipython",
    "version": 3
   },
   "file_extension": ".py",
   "mimetype": "text/x-python",
   "name": "python",
   "nbconvert_exporter": "python",
   "pygments_lexer": "ipython3",
   "version": "3.11.5"
  }
 },
 "nbformat": 4,
 "nbformat_minor": 5
}
